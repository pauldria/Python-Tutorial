{
 "cells": [
  {
   "cell_type": "markdown",
   "metadata": {},
   "source": [
    "# Welcome To Your Notebook\n",
    "\n",
    "This is the Jupyter Notebook experience, where you can write code and get a response, all together. \n",
    "\n",
    "You can find commands at the top bar, but there are a select set of keyboard commands that are useful in working through notebooks. \n",
    "\n",
    "* ``Ctrl + s`` - save your work. Do this often!\n",
    "* ``Ctrl + Enter`` - run the cell.\n",
    "* ``Esc m`` (this means hit the ``Esc`` key then the ``m`` key separately) - this turns a cell in the notebook to [Markdown](https://daringfireball.net/projects/markdown/) which allows you to write normally and take notes and explain.\n",
    "* ``Esc a`` - create a new cell above this one.\n",
    "* ``Esc b`` - create a new cell below this one.\n",
    "* ``Esc d d`` - delete this cell (note you press ``d`` twice)"
   ]
  },
  {
   "cell_type": "markdown",
   "metadata": {},
   "source": [
    "**In Python, you can write any expression you want with numbers and get an answer.**"
   ]
  },
  {
   "cell_type": "code",
   "execution_count": 1,
   "metadata": {},
   "outputs": [
    {
     "data": {
      "text/plain": [
       "2"
      ]
     },
     "execution_count": 1,
     "metadata": {},
     "output_type": "execute_result"
    }
   ],
   "source": [
    "3 + 5 - 6"
   ]
  },
  {
   "cell_type": "markdown",
   "metadata": {},
   "source": [
    "**You can apply functions to numbers. There are functions that are _standard_ and always included.**"
   ]
  },
  {
   "cell_type": "code",
   "execution_count": null,
   "metadata": {},
   "outputs": [],
   "source": []
  },
  {
   "cell_type": "markdown",
   "metadata": {},
   "source": [
    "**You can also deal with _strings_, which need quotes. You can add strings!**"
   ]
  },
  {
   "cell_type": "code",
   "execution_count": null,
   "metadata": {},
   "outputs": [],
   "source": []
  }
 ],
 "metadata": {
  "kernelspec": {
   "display_name": "Python 3",
   "language": "python",
   "name": "python3"
  },
  "language_info": {
   "codemirror_mode": {
    "name": "ipython",
    "version": 3
   },
   "file_extension": ".py",
   "mimetype": "text/x-python",
   "name": "python",
   "nbconvert_exporter": "python",
   "pygments_lexer": "ipython3",
   "version": "3.8.0"
  }
 },
 "nbformat": 4,
 "nbformat_minor": 4
}
