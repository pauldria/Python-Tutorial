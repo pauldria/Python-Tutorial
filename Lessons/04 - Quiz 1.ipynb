{
 "cells": [
  {
   "cell_type": "markdown",
   "metadata": {},
   "source": [
    "# Welcome To Your Notebook\n",
    "\n",
    "This is the Jupyter Notebook experience, where you can write code and get a response, all together. \n",
    "\n",
    "You can find commands at the top bar, but there are a select set of keyboard commands that are useful in working through notebooks. \n",
    "\n",
    "* ``Ctrl + s`` - save your work. Do this often!\n",
    "* ``Ctrl + Enter`` - run the cell.\n",
    "* ``Esc m`` (this means hit the ``Esc`` key then the ``m`` key separately) - this turns a cell in the notebook to [Markdown](https://daringfireball.net/projects/markdown/) which allows you to write normally and take notes and explain.\n",
    "* ``Esc a`` - create a new cell above this one.\n",
    "* ``Esc b`` - create a new cell below this one.\n",
    "* ``Esc d d`` - delete this cell (note you press ``d`` twice)\n",
    "\n",
    "Remember - [here is the Github place](https://github.com/pauldria/Python-Tutorial) where your work should go. When complete, make sure to reflect your changes **in your branch**. "
   ]
  },
  {
   "cell_type": "markdown",
   "metadata": {},
   "source": [
    "## Quiz 1 - Sentence Scramble Game\n",
    "\n",
    "For this quiz, we will go step-by-step into creating a function that takes in a sentence, like:\n",
    "\n",
    "```\n",
    "I like pleasure spiked with pain.\n",
    "```\n",
    "\n",
    "And turn it into a scramble, like:\n",
    "\n",
    "```\n",
    "pleasure I spiked pain. like with\n",
    "```\n",
    "\n",
    "Note that we are keeping the capitalization and punctuation as-is, which is a helpful hint for those playing the game and want to find the original sentence.\n",
    "\n",
    "Our strategy will be as follows: we'll take a sentence and do the following:\n",
    "1. **Break up** that sentence into its constituent words (and attached punctuation). We'll therefore turn the sentence into a list of strings. \n",
    "2. **Scramble** the list of strings.\n",
    "3. **Reconstruct** the sentence from the list. \n",
    "\n",
    "You will have to investigate to find out which functions you will need to use. "
   ]
  },
  {
   "cell_type": "markdown",
   "metadata": {},
   "source": [
    "Python has a large list of **libraries** that have already-made functions that can help you out. Each library should have documentation associated with it that you can find online. For example:\n",
    "\n",
    "* [sys](https://docs.python.org/3/library/sys.html)\n",
    "* [random](https://docs.python.org/3/library/random.html)"
   ]
  },
  {
   "cell_type": "code",
   "execution_count": 2,
   "metadata": {},
   "outputs": [],
   "source": [
    "import sys\n",
    "import random"
   ]
  },
  {
   "cell_type": "markdown",
   "metadata": {},
   "source": [
    "### Question 1 - sentence to list of words\n",
    "\n",
    "Create a function - call it ``BreakUp`` - that takes as input a string and returns a list of words. Here are a couple of examples.\n",
    "\n",
    "```python\n",
    "BreakUp(\"I like pleasure spiked with pain.\")\n",
    "> ['I', 'like', 'pleasure', 'spiked', 'with', 'pain.']\n",
    "\n",
    "BreakUp(\"MyKidsAreAwesome\")\n",
    "> [\"MyKidsAreAwesome\"]\n",
    "\n",
    "BreakUp(145)\n",
    "> Error message\n",
    "```\n",
    "\n",
    "Some specifics:\n",
    "* There should be no spaces in any of the words in the list that is returned.\n",
    "* Sentences may have more whitespace/spacing than you would normally see.\n",
    "\n",
    "You should utilize an existing string function that is commonly used. See https://docs.python.org/3.8/library/stdtypes.html#string-methods and read through all of the string functions and find the right one. There are a lot!"
   ]
  },
  {
   "cell_type": "code",
   "execution_count": null,
   "metadata": {},
   "outputs": [],
   "source": []
  },
  {
   "cell_type": "markdown",
   "metadata": {},
   "source": [
    "### Question 2 - scramble\n",
    "\n",
    "Create a function - call it ``Scramble`` - that takes in a list and outputs a list that is scrambled up. When you call it again, you may get something different since there's a random element in this function.\n",
    "\n",
    "This utilizes a method from the **random** library and you will need to find the right one: https://docs.python.org/3/library/random.html. \n",
    "\n",
    "Note that when you call the function, you have to **import** the library (already done above) and will need to call it via ``<Library Name>.<Function Name>``. So, for example, if the function you are looking for in the random library is called ``MixItUp``, then you would call it as ``random.MixItUp``."
   ]
  },
  {
   "cell_type": "code",
   "execution_count": null,
   "metadata": {},
   "outputs": [],
   "source": []
  },
  {
   "cell_type": "markdown",
   "metadata": {},
   "source": [
    "### Question 3 - reconstruct\n",
    "\n",
    "Create a function - call it ``Reconstruct`` - that takes in a list and outputs a sentence from that list, with each entry in the list representing a word and there's one space in between. It's effectively the opposite of ``BreakUp`` that you created above. \n",
    "\n",
    "Examples:\n",
    "\n",
    "```python\n",
    "BreakUp(['I', 'like', 'pleasure', 'spiked', 'with', 'pain.'])\n",
    "> \"I like pleasure spiked with pain.\"\n",
    "\n",
    "BreakUp([\"MyKidsAreAwesome\"])\n",
    "> \"MyKidsAreAwesome\"\n",
    "\n",
    "```"
   ]
  },
  {
   "cell_type": "code",
   "execution_count": null,
   "metadata": {},
   "outputs": [],
   "source": []
  },
  {
   "cell_type": "markdown",
   "metadata": {},
   "source": [
    "### Question 4 - bring it all together\n",
    "\n",
    "Now create a final function bringing the above three things together. Call the function what you want, but if you do it correctly the content of this function should only be four lines! One line for each of the above three functions you made, and a final ``return`` statement. Try it out!"
   ]
  },
  {
   "cell_type": "code",
   "execution_count": null,
   "metadata": {},
   "outputs": [],
   "source": []
  }
 ],
 "metadata": {
  "kernelspec": {
   "display_name": "Python 3",
   "language": "python",
   "name": "python3"
  },
  "language_info": {
   "codemirror_mode": {
    "name": "ipython",
    "version": 3
   },
   "file_extension": ".py",
   "mimetype": "text/x-python",
   "name": "python",
   "nbconvert_exporter": "python",
   "pygments_lexer": "ipython3",
   "version": "3.8.0"
  }
 },
 "nbformat": 4,
 "nbformat_minor": 4
}
