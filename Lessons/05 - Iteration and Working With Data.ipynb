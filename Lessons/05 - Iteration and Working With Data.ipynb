{
 "cells": [
  {
   "cell_type": "markdown",
   "metadata": {},
   "source": [
    "# Welcome To Your Notebook\n",
    "\n",
    "This is the Jupyter Notebook experience, where you can write code and get a response, all together. \n",
    "\n",
    "You can find commands at the top bar, but there are a select set of keyboard commands that are useful in working through notebooks. \n",
    "\n",
    "* ``Ctrl + s`` - save your work. Do this often!\n",
    "* ``Ctrl + Enter`` - run the cell.\n",
    "* ``Esc m`` (this means hit the ``Esc`` key then the ``m`` key separately) - this turns a cell in the notebook to [Markdown](https://daringfireball.net/projects/markdown/) which allows you to write normally and take notes and explain.\n",
    "* ``Esc a`` - create a new cell above this one.\n",
    "* ``Esc b`` - create a new cell below this one.\n",
    "* ``Esc d d`` - delete this cell (note you press ``d`` twice)\n",
    "\n",
    "Remember - [here is the Github place](https://github.com/pauldria/Python-Tutorial) where your work should go. When complete, make sure to reflect your changes **in your branch**. \n",
    "\n",
    "Finally - **don't forget to run all of your commands!**"
   ]
  },
  {
   "cell_type": "markdown",
   "metadata": {},
   "source": [
    "## Iteration and Working With Data\n",
    "\n",
    "Recall what we've learned so far:\n",
    "* _Basic types_ (also called _Native types_): `int`, `float`, `string`, `bool`\n",
    " * Remember that you can use the `type` function to find out what the type of something is.\n",
    "* Creating _variables_ to help us keep track of things. Each variable has a name and a value.\n",
    "* _Complex types_ which hold a lot of things for us: `tuple`, `list`, and `dict`. \n",
    "* _Functions_, which are recipes for doing things that allow us to organize the work that we do.\n",
    "\n",
    "Now we are going to start bringing these things together in the context of a problem we recently worked on - we collected a lot of _data_ around how many dice rolls we needed until we rolled a 6. Let's look at that data and see what we could do with it."
   ]
  },
  {
   "cell_type": "markdown",
   "metadata": {},
   "source": [
    "First, let's collect our data. This is the set of data from Mom's rolls."
   ]
  },
  {
   "cell_type": "code",
   "execution_count": null,
   "metadata": {},
   "outputs": [],
   "source": [
    "mommy_dice = [5,4,11,1,6,1,8,2,1,1,5,3,6,2,5,3,2,2,4,4,30,4,10,7,12,6,3,1,5,12,2,9,5,19,17,1,7,6,18,11,9,6,6,6,3,2,15,9,7,4,1,4,5,1,7,9,9,2,3,1,2,2,6,1,12]"
   ]
  },
  {
   "cell_type": "markdown",
   "metadata": {},
   "source": [
    "What if we have our data in a file? We won't always be able to effectively copy and paste. We have `dice_data.txt` with the same data, but one piece of data per line. How would we read this file and turn it into a list? Would we use a list, a tuple, or something else? \n",
    "\n",
    "This general theme is called _input and output_ and is part of Python's basic functionality. You can read more about it here: https://docs.python.org/3/tutorial/inputoutput.html. These are the main points, as it relates to this lesson:\n",
    "* Like a book, you can use the `open` function to read a file. When you're done with it, make sure you `close` it or ensure it's closed. \n",
    "* Also like a book, you can `read` the file in various ways: all at once, or a portion at a time. A natural portion of a book is a page. What's a natural portion of a file?"
   ]
  },
  {
   "cell_type": "code",
   "execution_count": null,
   "metadata": {},
   "outputs": [],
   "source": [
    "my_file = open(\"dice_data.txt\", mode = \"r\")  # mode is the way you're going to deal with the file. r = read, w = write\n",
    "file_contents = my_file.read()\n",
    "my_file.close()"
   ]
  },
  {
   "cell_type": "code",
   "execution_count": null,
   "metadata": {},
   "outputs": [],
   "source": [
    "file_contents"
   ]
  },
  {
   "cell_type": "markdown",
   "metadata": {},
   "source": [
    "Whoa, ugly! What's going on there? Why does it look like this, and not how it looks when you open it in your text editor?\n",
    "\n",
    "There are better ways to go - one common pattern is reading line-by-line, which is shown here:"
   ]
  },
  {
   "cell_type": "code",
   "execution_count": null,
   "metadata": {},
   "outputs": [],
   "source": [
    "my_file = open(\"dice_data.txt\", mode = \"r\")\n",
    "for line in my_file:\n",
    "    print(\"Reading \" + line)"
   ]
  },
  {
   "cell_type": "markdown",
   "metadata": {},
   "source": [
    "Pop quiz: what's the type of each `line` in the code above?\n",
    "\n",
    "Now, say we wanted to read in this data and store it in a list. How would we do it?"
   ]
  },
  {
   "cell_type": "code",
   "execution_count": null,
   "metadata": {},
   "outputs": [],
   "source": [
    "my_file = open(\"dice_data.txt\", mode = \"r\")\n",
    "# How does our list start?\n",
    "\n",
    "for line in my_file:\n",
    "    # How do we add to the list?\n",
    "\n",
    "# Do we need to close the file?"
   ]
  },
  {
   "cell_type": "markdown",
   "metadata": {},
   "source": [
    "## Working with Data\n",
    "\n",
    "We want to calculate certain things with this data. As we saw in Excel, we want the sum, count, and average. We also want to be able to look at the data in a plot.\n",
    "\n",
    "For sum and count and average, we have built-in functions. But let's see how this is calculated from first principles. \n",
    "\n",
    "How do we add all the elements in a list?"
   ]
  },
  {
   "cell_type": "code",
   "execution_count": null,
   "metadata": {},
   "outputs": [],
   "source": [
    "my_file = open(\"dice_data.txt\", mode = \"r\")\n",
    "# How does our sum start?\n",
    "\n",
    "for line in my_file:\n",
    "    # How do we add to this sum?\n",
    "\n",
    "# Do we need to close the file?"
   ]
  },
  {
   "cell_type": "markdown",
   "metadata": {},
   "source": [
    "How would we create a function out of this?\n",
    "\n",
    "Now, let's do count and average."
   ]
  },
  {
   "cell_type": "code",
   "execution_count": null,
   "metadata": {},
   "outputs": [],
   "source": []
  },
  {
   "cell_type": "markdown",
   "metadata": {},
   "source": [
    "Now let's visualize the data. As with almost everything you do in programming, the core is leveraging existing functionality (called _libraries_ in python) and using them as much as possible. This requires searching and finding what you need, but there are very common ones for standard things like plotting. Here, we are using [matplotlib](https://matplotlib.org/tutorials/introductory/pyplot.html).\n",
    "\n",
    "We use the `as` keyword to make it easier to reference. Instead of `matplotlib.pyplot.<FUNCTION>` with this `as` keyword we can do `plt.<FUNCTION>`. Much shorter.\n",
    "\n",
    "Matplotlib is made in a way that you create your plot, step-by-step, and then you call the `show()` function when ready."
   ]
  },
  {
   "cell_type": "code",
   "execution_count": null,
   "metadata": {},
   "outputs": [],
   "source": [
    "import matplotlib.pyplot as plt"
   ]
  },
  {
   "cell_type": "markdown",
   "metadata": {},
   "source": [
    "The main function is `plot`. Let's plot Mom's data and see what we get:"
   ]
  },
  {
   "cell_type": "code",
   "execution_count": null,
   "metadata": {},
   "outputs": [],
   "source": [
    "plt.plot(mommy_dice)\n",
    "plt.show()"
   ]
  },
  {
   "cell_type": "markdown",
   "metadata": {},
   "source": [
    "What is this? Does this help us in any way?\n",
    "\n",
    "A useful plot with data is the _histogram_, which tells us how often we see a certain value. For example, we see 30 one time. Before we think about the creation of the plot, what's a good way in which we can store the count of each value? "
   ]
  },
  {
   "cell_type": "code",
   "execution_count": null,
   "metadata": {},
   "outputs": [],
   "source": [
    "tallies = {}\n",
    "for i in mommy_dice:\n",
    "    if i not in tallies:\n",
    "        tallies[i] = 0\n",
    "    tallies[i] = tallies[i] + 1"
   ]
  },
  {
   "cell_type": "code",
   "execution_count": null,
   "metadata": {},
   "outputs": [],
   "source": [
    "tallies"
   ]
  },
  {
   "cell_type": "markdown",
   "metadata": {},
   "source": [
    "This doesn't work - how do we actually use `plt.bar`?"
   ]
  },
  {
   "cell_type": "code",
   "execution_count": null,
   "metadata": {},
   "outputs": [],
   "source": [
    "plt.bar(tallies)\n",
    "plt.show()"
   ]
  },
  {
   "cell_type": "code",
   "execution_count": null,
   "metadata": {},
   "outputs": [],
   "source": []
  }
 ],
 "metadata": {
  "kernelspec": {
   "display_name": "Python 3",
   "language": "python",
   "name": "python3"
  },
  "language_info": {
   "codemirror_mode": {
    "name": "ipython",
    "version": 3
   },
   "file_extension": ".py",
   "mimetype": "text/x-python",
   "name": "python",
   "nbconvert_exporter": "python",
   "pygments_lexer": "ipython3",
   "version": "3.8.0"
  }
 },
 "nbformat": 4,
 "nbformat_minor": 4
}
